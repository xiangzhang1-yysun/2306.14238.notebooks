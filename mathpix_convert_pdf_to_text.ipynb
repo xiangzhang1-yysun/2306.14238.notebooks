{
 "cells": [
  {
   "cell_type": "code",
   "execution_count": 6,
   "metadata": {
    "vscode": {
     "languageId": "shellscript"
    }
   },
   "outputs": [
    {
     "name": "stdout",
     "output_type": "stream",
     "text": [
      "Converted 1.pdf to 1.tex.zip in 15219ms% complete... \n",
      "[WARNING] Could not convert TeX math \\underline{D_{\\mathrm{r}} \\mathrm{CaZr}\\left(\\mathrm{PO}_{4}\\right)_{2}}, rendering as TeX\n",
      "[WARNING] Could not convert TeX math \\begin{aligned}\n",
      "  \\mathrm{CaZrO}_{3}: \\mathrm{Eu}^{3+}+2 \\mathrm{NH}_{4} \\mathrm{H}_{2} \\mathrm{PO}_{4} \\rightarrow & \\mathrm{CaZr}\\left(\\mathrm{PO}_{4}\\right)_{2}: \\mathrm{Eu}^{2+}, \\\\\n",
      "  & \\mathrm{Eu}^{3+}+2 \\mathrm{NH}_{3}+3 \\mathrm{H}_{2} \\mathrm{O}\n",
      "  \\end{aligned}, rendering as TeX\n",
      "[WARNING] Could not convert TeX math \\begin{gathered}\n",
      "  2 \\mathrm{Eu}^{3+}+3 \\mathrm{Ca}^{2+} \\rightarrow\\left[V_{\\mathrm{Ca}}\\right]^{\\prime \\prime}+2\\left[\\mathrm{Eu}^{3+}\\right]_{\\mathrm{Ca}}^{\\bullet} \\\\\n",
      "  {\\left[V_{\\mathrm{Ca}}\\right]^{\\prime \\prime} \\rightarrow\\left[V_{\\mathrm{Ca}}\\right]^{\\times}+2 \\mathrm{e}} \\\\\n",
      "  2\\left[\\mathrm{Eu}^{3+}\\right]_{\\mathrm{Ca}}^{\\bullet}+2 \\mathrm{e} \\rightarrow 2\\left[\\mathrm{Eu}^{2+}\\right]_{\\mathrm{Ca}}^{\\times}\n",
      "  \\end{gathered}, rendering as TeX\n",
      "[WARNING] Could not convert TeX math \\begin{gathered}\n",
      "  2\\left[\\mathrm{Eu}^{3+}\\right]_{\\mathrm{Ca}}^{\\times}+\\mathrm{O} \\rightarrow 2\\left[\\mathrm{Eu}^{3+}\\right]_{\\mathrm{Ca}}^{\\bullet}+\\mathrm{O}^{2-} \\\\\n",
      "  \\mathrm{O}^{2-}+\\left[V_{\\mathrm{Ca}}\\right]^{\\prime \\prime} \\rightarrow\\left[\\mathrm{O}^{2-}\\right]_{\\mathrm{Ca}}^{\\times}\n",
      "  \\end{gathered}, rendering as TeX\n",
      "Converted 1.pdf to 1.tex.zip in 15793ms% complete... \n",
      "[WARNING] Could not convert TeX math 1.54056 \\mathring{\\mathrm{A}}, rendering as TeX\n",
      "[WARNING] Could not convert TeX math \\left(\\mathring{\\mathrm{A}}^{2}\\right), rendering as TeX\n",
      "[WARNING] Could not convert TeX math \\mathrm{D}=\\frac{1}{\\mathrm{n}} \\sum_{i=1}^{\\mathrm{n}} \\frac{\\left|l_{i}-l_{\\mathrm{av}}\\right|}{l_{\\mathrm{av}}}, rendering as TeX\n",
      "Converted 1.pdf to 1.tex.zip in 13609ms% complete... \n",
      "[WARNING] Could not convert TeX math \\begin{aligned}\n",
      "  & (1-\\mathrm{x}) \\mathrm{CaO}+\\mathrm{xSrO}+1 / 2 \\mathrm{La}_{2} \\mathrm{~S}_{3}+3 / 2 \\mathrm{Ga}_{2} \\mathrm{~S}_{3}+0.05 \\mathrm{EuS} \\\\\n",
      "  & \\stackrel{950^{\\circ} \\mathrm{C}, \\mathrm{Ar}, 2 \\mathrm{~h}}{\\longrightarrow} \\mathrm{Ca}_{1-\\mathrm{x}} \\mathrm{Sr}_{\\mathrm{x}} \\mathrm{LaGa}_{3} \\mathrm{~S}_{6} \\mathrm{O}: 0.05 \\mathrm{Eu}^{2+}\n",
      "  \\end{aligned}, rendering as TeX\n",
      "[WARNING] Could not convert TeX math P \\overline{4} 2_{1} m, rendering as TeX\n",
      "[WARNING] Could not convert TeX math \\mathrm{Ca}^{2+}(1.12 \\mathring{\\mathrm{A}}), rendering as TeX\n",
      "[WARNING] Could not convert TeX math \\mathrm{Sr}^{2+}(1.26 \\mathring{\\mathrm{A}}), rendering as TeX\n",
      "[WARNING] Could not convert TeX math \\left(a=9.296 \\mathring{\\mathrm{A}}, c=6.040 \\mathring{\\mathrm{A}}, V=521.95 \\mathring{\\mathrm{A}}^{3}\\right), rendering as TeX\n",
      "[WARNING] Could not convert TeX math \\mathrm{SrLaGa}_{3} \\mathrm{~S}_{6} \\mathrm{O}: 0.10 \\mathrm{Eu}^{2+}(a=9.377 \\mathring{\\mathrm{A}}, rendering as TeX\n",
      "[WARNING] Could not convert TeX math \\left.c=6.092 \\mathring{\\mathrm{A}}, V=535.65 \\mathring{\\mathrm{A}}^{3}\\right), rendering as TeX\n",
      "[WARNING] Could not convert TeX math \\left(\\mathrm{CaLaGa}_{3} \\mathrm{~S}_{6} \\mathrm{O}: a=9.271 \\mathring{\\mathrm{A}}, c=6.035 \\mathring{\\mathrm{A}}\\right., rendering as TeX\n",
      "[WARNING] Could not convert TeX math \\mathrm{SrLaGa}_{3} \\mathrm{~S}_{6} \\mathrm{O}: a=9.347 \\mathring{\\mathrm{A}}, rendering as TeX\n",
      "[WARNING] Could not convert TeX math \\left.c=6.089 \\mathring{\\mathrm{A}}\\mathring{\\mathrm{A}}^{2}\\right),{ }^{23}, rendering as TeX\n",
      "[WARNING] Could not convert TeX math \\mathrm{Eu}^{2+}(1.25 \\mathring{\\mathrm{A}}), rendering as TeX\n",
      "[WARNING] Could not convert TeX math 1.26 \\mathring{\\mathrm{A}}, rendering as TeX\n",
      "[WARNING] Could not convert TeX math 1.12 \\mathring{\\mathrm{A}},{ }^{24}, rendering as TeX\n"
     ]
    }
   ],
   "source": [
    "set -e\n",
    "\n",
    "for file in pdf/*.pdf; do\n",
    "    basename=$(basename \"$file\" .pdf)\n",
    "\n",
    "    if [ ! -f \"txt/${basename}.txt\" ]; then\n",
    "        cp \"$file\" scratch/1.pdf\n",
    "\n",
    "        cd scratch/\n",
    "        mpx convert 1.pdf 1.tex\n",
    "        unzip -q 1.tex.zip\n",
    "        find . -name '*.tex' -exec mv {} 1.tex \\;\n",
    "        pandoc --to=plain --wrap=none --output=1.txt 1.tex\n",
    "        python ../unicode_clean.py\n",
    "        cd ../\n",
    "\n",
    "        mv scratch/2.txt \"txt/${basename}.txt\"\n",
    "        rm -rf scratch/*\n",
    "    fi\n",
    "done"
   ]
  },
  {
   "cell_type": "code",
   "execution_count": null,
   "metadata": {
    "vscode": {
     "languageId": "shellscript"
    }
   },
   "outputs": [],
   "source": []
  }
 ],
 "metadata": {
  "kernelspec": {
   "display_name": "Bash",
   "language": "bash",
   "name": "bash"
  },
  "language_info": {
   "codemirror_mode": "shell",
   "file_extension": ".sh",
   "mimetype": "text/x-sh",
   "name": "bash"
  },
  "orig_nbformat": 4
 },
 "nbformat": 4,
 "nbformat_minor": 2
}
