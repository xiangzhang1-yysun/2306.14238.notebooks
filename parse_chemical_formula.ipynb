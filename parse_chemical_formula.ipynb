{
 "cells": [
  {
   "cell_type": "code",
   "execution_count": 2,
   "metadata": {},
   "outputs": [],
   "source": [
    "from pathlib import Path\n",
    "\n",
    "import pandas as pd\n",
    "\n",
    "from formula import parse\n",
    "\n",
    "from antlr4.error.Errors import ParseCancellationException\n",
    "\n",
    "import json"
   ]
  },
  {
   "cell_type": "code",
   "execution_count": 3,
   "metadata": {},
   "outputs": [],
   "source": [
    "v = {}\n",
    "tm = {}"
   ]
  },
  {
   "cell_type": "code",
   "execution_count": 10,
   "metadata": {},
   "outputs": [],
   "source": [
    "with open('phosphors.csv','w') as f:\n",
    "    \n",
    "    df = pd.read_csv('csv/300.clean.csv')\n",
    "    df['formula'] = df['formula'].apply(lambda x: x + ':Eu2+')\n",
    "    df.to_csv(f, index=None)\n",
    "\n",
    "    for csv in Path('csv').glob('10*.csv'):\n",
    "        df = pd.read_csv(csv, header=None)\n",
    "        df.to_csv(f, index=None, header=None)"
   ]
  },
  {
   "cell_type": "code",
   "execution_count": 16,
   "metadata": {},
   "outputs": [
    {
     "name": "stdout",
     "output_type": "stream",
     "text": [
      "[BaMg1.5Al10.5O18.25:Eu2+] AssertionError()\n",
      "[SrMgAl11O18.5:Eu2+] AssertionError()\n",
      "[La0.86Al11.9O19.4:Eu2+] AssertionError()\n",
      "[Gd1−xSr2AlO5:xCe3+] AssertionError()\n",
      "[CMAS:Ce3+,Dy3+] AssertionError()\n",
      "[CMAS:Dy3+] AssertionError()\n",
      "[CMAS:Dy3+] AssertionError()\n",
      "[CMAS:Dy3+] AssertionError()\n",
      "[CMAS: 1 m% Ce3+, xDy3+ (x=0.1, 0.3, 0.5 and 1 mol%)] AssertionError()\n",
      "[CMAS: 1 m% Ce3+, 0.5 m% Dy3+] AssertionError()\n",
      "[CMAS: 1 m% Ce3+, 0.5 m% Dy3+] AssertionError()\n",
      "[CMAS: 1 m% Ce3+, 0.5 m% Dy3+] AssertionError()\n",
      "[Ca20Mg3Al26Si3O68: 1 m% Ce3+] AssertionError()\n",
      "[Ca20Mg3Al26Si3O68: 0.5 m% Dy3+] AssertionError()\n",
      "[Ca20Mg3Al26Si3O68: 0.5 m% Dy3+] AssertionError()\n",
      "[Ca20Mg3Al26Si3O68: 0.5 m% Dy3+] AssertionError()\n",
      "[Ca20Mg3Al26Si3O68: 1 m% Ce3+ 0.5 m% Dy3+] AssertionError()\n",
      "[Ca20Mg3Al26Si3O68: 1 m% Ce3+ 0.5 m% Dy3+] AssertionError()\n",
      "[Ca20Mg3Al26Si3O68: 1 m% Ce3+ 0.5 m% Dy3+] AssertionError()\n",
      "[Ba2.96Eu0.04P4O13] AssertionError()\n",
      "[Ba2.96Eu0.04P4O13] AssertionError()\n",
      "[Lu3MgAl3SiO12 : Ce3+] AssertionError()\n",
      "[Lu2Y1MgAl3SiO12 : Ce3+] AssertionError()\n",
      "[Lu1Y2MgAl3SiO12 : Ce3+] AssertionError()\n",
      "[Y3MgAl3SiO12 : Ce3+] AssertionError()\n",
      "[(Ba,Sr2Si5N8:Eu2+] ParseCancellationException(\"line 1: 3 token recognition error at: ','\")\n",
      "[(Ba,Sr2Si5N8:Eu2+] ParseCancellationException(\"line 1: 3 token recognition error at: ','\")\n",
      "[(Ca,Sr)SiAlN3:Eu2+] ParseCancellationException(\"line 1: 3 token recognition error at: ','\")\n",
      "[(Ca,Sr)SiAlN3:Eu2+] ParseCancellationException(\"line 1: 3 token recognition error at: ','\")\n",
      "[Sr_(1−x)Ca_(x)S:Eu2+] ParseCancellationException(\"line 1: 2 token recognition error at: '_'\")\n",
      "[Sr_(1−x)Ca_(x)S:Eu2+] ParseCancellationException(\"line 1: 2 token recognition error at: '_'\")\n",
      "[Ca_(0.6)Sr_(0.4)LaGa3 S6O : 0.05Eu2+] ParseCancellationException(\"line 1: 2 token recognition error at: '_'\")\n",
      "[Ca3La6(SiO4)6 : 0.02Mn2+] AssertionError()\n"
     ]
    }
   ],
   "source": [
    "df = pd.read_csv('phosphors.csv')\n",
    "df['lambda'] = pd.to_numeric(df['lambda'], errors='coerce')\n",
    "df = df.dropna()\n",
    "\n",
    "js = df.to_dict(orient='records')\n",
    "js2 = []\n",
    "for j in js:\n",
    "    try:\n",
    "        formula = j['formula']\n",
    "        # formula should be in the form of 'base:dopant'\n",
    "        assert ':' in formula\n",
    "        # dopant should be Eu2+\n",
    "        dopant = formula.split(':')[1]\n",
    "        assert 'Eu2' in dopant\n",
    "        # base should be a valid formula\n",
    "        base = formula.split(':')[0]\n",
    "        stoichiometry = parse(base)\n",
    "        # all stoichiometry numbers should be close to ints, and are converted so\n",
    "        for ele, num in stoichiometry.items():\n",
    "            assert abs(num - round(num)) < 0.25\n",
    "            stoichiometry[ele] = round(num)\n",
    "        j['stoichiometry'] = stoichiometry\n",
    "        # lambda should be float\n",
    "        j['lambda'] = float(j['lambda'])\n",
    "        js2.append(j)\n",
    "    except (AssertionError, ParseCancellationException) as e:\n",
    "        print('[' + formula + '] ' + repr(e))"
   ]
  },
  {
   "cell_type": "code",
   "execution_count": 17,
   "metadata": {},
   "outputs": [],
   "source": [
    "with open('phosphors.json', 'w') as f:\n",
    "    json.dump(js2, f)"
   ]
  },
  {
   "cell_type": "code",
   "execution_count": null,
   "metadata": {},
   "outputs": [],
   "source": []
  }
 ],
 "metadata": {
  "kernelspec": {
   "display_name": "gpt-cgcnn-export",
   "language": "python",
   "name": "python3"
  },
  "language_info": {
   "codemirror_mode": {
    "name": "ipython",
    "version": 3
   },
   "file_extension": ".py",
   "mimetype": "text/x-python",
   "name": "python",
   "nbconvert_exporter": "python",
   "pygments_lexer": "ipython3",
   "version": "3.11.4"
  },
  "orig_nbformat": 4
 },
 "nbformat": 4,
 "nbformat_minor": 2
}
