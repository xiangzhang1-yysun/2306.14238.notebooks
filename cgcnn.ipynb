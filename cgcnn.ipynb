{
 "cells": [
  {
   "cell_type": "code",
   "execution_count": 1,
   "metadata": {
    "vscode": {
     "languageId": "shellscript"
    }
   },
   "outputs": [],
   "source": [
    "cp atom_init.json cifs/"
   ]
  },
  {
   "cell_type": "code",
   "execution_count": 10,
   "metadata": {
    "vscode": {
     "languageId": "shellscript"
    }
   },
   "outputs": [
    {
     "name": "stdout",
     "output_type": "stream",
     "text": [
      "/Users/xzhang1/Desktop/cgcnn/main.py:117: UserWarning: Dataset has less than 500 data points. Lower accuracy is expected. \n",
      "  warnings.warn('Dataset has less than 500 data points. '\n",
      "/Users/xzhang1/opt/anaconda3/envs/gpt-cgcnn-export/lib/python3.11/site-packages/pymatgen/io/cif.py:1145: UserWarning: Issues encountered while parsing CIF: Some fractional coordinates rounded to ideal values to avoid issues with finite precision.\n",
      "  warnings.warn(\"Issues encountered while parsing CIF: \" + \"\\n\".join(self.warnings))\n",
      "Epoch: [0][0/1]\tTime 0.823 (0.823)\tData 0.007 (0.007)\tLoss 1.4058 (1.4058)\tMAE 75.777 (75.777)\n",
      "Test: [0/1]\tTime 0.032 (0.032)\tLoss 832.2503 (832.2503)\tMAE 2082.725 (2082.725)\n",
      " * MAE 2082.725\n",
      "Epoch: [1][0/1]\tTime 0.553 (0.553)\tData 0.010 (0.010)\tLoss 21.7307 (21.7307)\tMAE 321.071 (321.071)\n",
      "Test: [0/1]\tTime 0.033 (0.033)\tLoss 33.8284 (33.8284)\tMAE 399.785 (399.785)\n",
      " * MAE 399.785\n",
      "Epoch: [2][0/1]\tTime 0.557 (0.557)\tData 0.010 (0.010)\tLoss 1.7884 (1.7884)\tMAE 73.044 (73.044)\n",
      "Test: [0/1]\tTime 0.037 (0.037)\tLoss 2.4497 (2.4497)\tMAE 103.899 (103.899)\n",
      " * MAE 103.899\n",
      "Epoch: [3][0/1]\tTime 0.552 (0.552)\tData 0.007 (0.007)\tLoss 2.9567 (2.9567)\tMAE 108.261 (108.261)\n",
      "Test: [0/1]\tTime 0.094 (0.094)\tLoss 8.3741 (8.3741)\tMAE 193.849 (193.849)\n",
      " * MAE 193.849\n",
      "Epoch: [4][0/1]\tTime 0.543 (0.543)\tData 0.008 (0.008)\tLoss 3.8952 (3.8952)\tMAE 134.441 (134.441)\n",
      "Test: [0/1]\tTime 0.034 (0.034)\tLoss 7.0702 (7.0702)\tMAE 176.108 (176.108)\n",
      " * MAE 176.108\n",
      "Epoch: [5][0/1]\tTime 0.560 (0.560)\tData 0.011 (0.011)\tLoss 3.0056 (3.0056)\tMAE 116.730 (116.730)\n",
      "Test: [0/1]\tTime 0.035 (0.035)\tLoss 4.5958 (4.5958)\tMAE 138.613 (138.613)\n",
      " * MAE 138.613\n",
      "Epoch: [6][0/1]\tTime 0.550 (0.550)\tData 0.009 (0.009)\tLoss 1.9055 (1.9055)\tMAE 90.339 (90.339)\n",
      "Test: [0/1]\tTime 0.034 (0.034)\tLoss 2.8965 (2.8965)\tMAE 106.691 (106.691)\n",
      " * MAE 106.691\n",
      "Epoch: [7][0/1]\tTime 0.549 (0.549)\tData 0.009 (0.009)\tLoss 1.2777 (1.2777)\tMAE 71.954 (71.954)\n",
      "Test: [0/1]\tTime 0.032 (0.032)\tLoss 1.9590 (1.9590)\tMAE 87.764 (87.764)\n",
      " * MAE 87.764\n",
      "Epoch: [8][0/1]\tTime 0.557 (0.557)\tData 0.005 (0.005)\tLoss 1.0137 (1.0137)\tMAE 62.333 (62.333)\n",
      "Test: [0/1]\tTime 0.030 (0.030)\tLoss 1.4741 (1.4741)\tMAE 74.734 (74.734)\n",
      " * MAE 74.734\n",
      "Epoch: [9][0/1]\tTime 0.556 (0.556)\tData 0.010 (0.010)\tLoss 0.9234 (0.9234)\tMAE 56.758 (56.758)\n",
      "Test: [0/1]\tTime 0.031 (0.031)\tLoss 1.2249 (1.2249)\tMAE 65.172 (65.172)\n",
      " * MAE 65.172\n",
      "Epoch: [10][0/1]\tTime 0.529 (0.529)\tData 0.004 (0.004)\tLoss 0.9032 (0.9032)\tMAE 53.517 (53.517)\n",
      "Test: [0/1]\tTime 0.051 (0.051)\tLoss 1.0977 (1.0977)\tMAE 59.030 (59.030)\n",
      " * MAE 59.030\n",
      "Epoch: [11][0/1]\tTime 0.533 (0.533)\tData 0.005 (0.005)\tLoss 0.9081 (0.9081)\tMAE 51.696 (51.696)\n",
      "Test: [0/1]\tTime 0.031 (0.031)\tLoss 1.0356 (1.0356)\tMAE 55.560 (55.560)\n",
      " * MAE 55.560\n",
      "Epoch: [12][0/1]\tTime 0.541 (0.541)\tData 0.007 (0.007)\tLoss 0.9200 (0.9200)\tMAE 50.814 (50.814)\n",
      "Test: [0/1]\tTime 0.037 (0.037)\tLoss 1.0087 (1.0087)\tMAE 53.443 (53.443)\n",
      " * MAE 53.443\n",
      "Epoch: [13][0/1]\tTime 0.543 (0.543)\tData 0.005 (0.005)\tLoss 0.9319 (0.9319)\tMAE 50.336 (50.336)\n",
      "Test: [0/1]\tTime 0.033 (0.033)\tLoss 0.9992 (0.9992)\tMAE 52.177 (52.177)\n",
      " * MAE 52.177\n",
      "Epoch: [14][0/1]\tTime 0.549 (0.549)\tData 0.004 (0.004)\tLoss 0.9414 (0.9414)\tMAE 50.052 (50.052)\n",
      "Test: [0/1]\tTime 0.032 (0.032)\tLoss 0.9971 (0.9971)\tMAE 51.742 (51.742)\n",
      " * MAE 51.742\n",
      "Epoch: [15][0/1]\tTime 0.544 (0.544)\tData 0.004 (0.004)\tLoss 0.9477 (0.9477)\tMAE 49.873 (49.873)\n",
      "Test: [0/1]\tTime 0.032 (0.032)\tLoss 0.9974 (0.9974)\tMAE 51.432 (51.432)\n",
      " * MAE 51.432\n",
      "Epoch: [16][0/1]\tTime 0.659 (0.659)\tData 0.004 (0.004)\tLoss 0.9510 (0.9510)\tMAE 49.752 (49.752)\n",
      "Test: [0/1]\tTime 0.035 (0.035)\tLoss 0.9980 (0.9980)\tMAE 51.279 (51.279)\n",
      " * MAE 51.279\n",
      "Epoch: [17][0/1]\tTime 0.613 (0.613)\tData 0.047 (0.047)\tLoss 0.9516 (0.9516)\tMAE 49.659 (49.659)\n",
      "Test: [0/1]\tTime 0.032 (0.032)\tLoss 0.9981 (0.9981)\tMAE 51.137 (51.137)\n",
      " * MAE 51.137\n",
      "Epoch: [18][0/1]\tTime 0.600 (0.600)\tData 0.044 (0.044)\tLoss 0.9497 (0.9497)\tMAE 49.577 (49.577)\n",
      "Test: [0/1]\tTime 0.031 (0.031)\tLoss 0.9976 (0.9976)\tMAE 51.005 (51.005)\n",
      " * MAE 51.005\n",
      "Epoch: [19][0/1]\tTime 0.554 (0.554)\tData 0.007 (0.007)\tLoss 0.9458 (0.9458)\tMAE 49.496 (49.496)\n",
      "Test: [0/1]\tTime 0.031 (0.031)\tLoss 0.9964 (0.9964)\tMAE 50.940 (50.940)\n",
      " * MAE 50.940\n",
      "Epoch: [20][0/1]\tTime 0.550 (0.550)\tData 0.005 (0.005)\tLoss 0.9401 (0.9401)\tMAE 49.411 (49.411)\n",
      "Test: [0/1]\tTime 0.031 (0.031)\tLoss 0.9946 (0.9946)\tMAE 50.873 (50.873)\n",
      " * MAE 50.873\n",
      "Epoch: [21][0/1]\tTime 0.554 (0.554)\tData 0.006 (0.006)\tLoss 0.9329 (0.9329)\tMAE 49.319 (49.319)\n",
      "Test: [0/1]\tTime 0.031 (0.031)\tLoss 0.9920 (0.9920)\tMAE 50.791 (50.791)\n",
      " * MAE 50.791\n",
      "Epoch: [22][0/1]\tTime 0.556 (0.556)\tData 0.005 (0.005)\tLoss 0.9244 (0.9244)\tMAE 49.215 (49.215)\n",
      "Test: [0/1]\tTime 0.033 (0.033)\tLoss 0.9888 (0.9888)\tMAE 50.693 (50.693)\n",
      " * MAE 50.693\n",
      "Epoch: [23][0/1]\tTime 0.558 (0.558)\tData 0.005 (0.005)\tLoss 0.9145 (0.9145)\tMAE 49.101 (49.101)\n",
      "Test: [0/1]\tTime 0.035 (0.035)\tLoss 0.9850 (0.9850)\tMAE 50.581 (50.581)\n",
      " * MAE 50.581\n",
      "Epoch: [24][0/1]\tTime 0.572 (0.572)\tData 0.004 (0.004)\tLoss 0.9031 (0.9031)\tMAE 48.966 (48.966)\n",
      "Test: [0/1]\tTime 0.033 (0.033)\tLoss 0.9805 (0.9805)\tMAE 50.455 (50.455)\n",
      " * MAE 50.455\n",
      "Epoch: [25][0/1]\tTime 0.569 (0.569)\tData 0.004 (0.004)\tLoss 0.8900 (0.8900)\tMAE 48.815 (48.815)\n",
      "Test: [0/1]\tTime 0.034 (0.034)\tLoss 0.9755 (0.9755)\tMAE 50.315 (50.315)\n",
      " * MAE 50.315\n",
      "Epoch: [26][0/1]\tTime 0.569 (0.569)\tData 0.004 (0.004)\tLoss 0.8750 (0.8750)\tMAE 48.632 (48.632)\n",
      "Test: [0/1]\tTime 0.035 (0.035)\tLoss 0.9699 (0.9699)\tMAE 50.161 (50.161)\n",
      " * MAE 50.161\n",
      "Epoch: [27][0/1]\tTime 0.558 (0.558)\tData 0.005 (0.005)\tLoss 0.8579 (0.8579)\tMAE 48.406 (48.406)\n",
      "Test: [0/1]\tTime 0.031 (0.031)\tLoss 0.9636 (0.9636)\tMAE 50.048 (50.048)\n",
      " * MAE 50.048\n",
      "Epoch: [28][0/1]\tTime 0.567 (0.567)\tData 0.004 (0.004)\tLoss 0.8385 (0.8385)\tMAE 48.129 (48.129)\n",
      "Test: [0/1]\tTime 0.031 (0.031)\tLoss 0.9567 (0.9567)\tMAE 49.930 (49.930)\n",
      " * MAE 49.930\n",
      "Epoch: [29][0/1]\tTime 0.574 (0.574)\tData 0.007 (0.007)\tLoss 0.8165 (0.8165)\tMAE 47.790 (47.790)\n",
      "Test: [0/1]\tTime 0.033 (0.033)\tLoss 0.9489 (0.9489)\tMAE 49.859 (49.859)\n",
      " * MAE 49.859\n",
      "Epoch: [30][0/1]\tTime 0.575 (0.575)\tData 0.006 (0.006)\tLoss 0.7918 (0.7918)\tMAE 47.395 (47.395)\n",
      "Test: [0/1]\tTime 0.034 (0.034)\tLoss 0.9402 (0.9402)\tMAE 49.776 (49.776)\n",
      " * MAE 49.776\n",
      "Epoch: [31][0/1]\tTime 0.593 (0.593)\tData 0.004 (0.004)\tLoss 0.7641 (0.7641)\tMAE 46.920 (46.920)\n",
      "Test: [0/1]\tTime 0.031 (0.031)\tLoss 0.9302 (0.9302)\tMAE 49.697 (49.697)\n",
      " * MAE 49.697\n",
      "Epoch: [32][0/1]\tTime 0.581 (0.581)\tData 0.005 (0.005)\tLoss 0.7331 (0.7331)\tMAE 46.481 (46.481)\n",
      "Test: [0/1]\tTime 0.033 (0.033)\tLoss 0.9185 (0.9185)\tMAE 49.641 (49.641)\n",
      " * MAE 49.641\n",
      "Epoch: [33][0/1]\tTime 0.687 (0.687)\tData 0.004 (0.004)\tLoss 0.6990 (0.6990)\tMAE 46.047 (46.047)\n",
      "Test: [0/1]\tTime 0.032 (0.032)\tLoss 0.9046 (0.9046)\tMAE 49.512 (49.512)\n",
      " * MAE 49.512\n",
      "Epoch: [34][0/1]\tTime 0.671 (0.671)\tData 0.004 (0.004)\tLoss 0.6620 (0.6620)\tMAE 45.530 (45.530)\n",
      "Test: [0/1]\tTime 0.035 (0.035)\tLoss 0.8878 (0.8878)\tMAE 49.262 (49.262)\n",
      " * MAE 49.262\n",
      "Epoch: [35][0/1]\tTime 0.562 (0.562)\tData 0.005 (0.005)\tLoss 0.6235 (0.6235)\tMAE 44.883 (44.883)\n",
      "Test: [0/1]\tTime 0.031 (0.031)\tLoss 0.8678 (0.8678)\tMAE 48.821 (48.821)\n",
      " * MAE 48.821\n",
      "Epoch: [36][0/1]\tTime 0.571 (0.571)\tData 0.004 (0.004)\tLoss 0.5860 (0.5860)\tMAE 44.216 (44.216)\n",
      "Test: [0/1]\tTime 0.091 (0.091)\tLoss 0.8451 (0.8451)\tMAE 48.114 (48.114)\n",
      " * MAE 48.114\n",
      "Epoch: [37][0/1]\tTime 0.668 (0.668)\tData 0.006 (0.006)\tLoss 0.5521 (0.5521)\tMAE 43.265 (43.265)\n",
      "Test: [0/1]\tTime 0.032 (0.032)\tLoss 0.8214 (0.8214)\tMAE 47.434 (47.434)\n",
      " * MAE 47.434\n",
      "Epoch: [38][0/1]\tTime 0.569 (0.569)\tData 0.004 (0.004)\tLoss 0.5217 (0.5217)\tMAE 41.966 (41.966)\n",
      "Test: [0/1]\tTime 0.033 (0.033)\tLoss 0.7999 (0.7999)\tMAE 47.611 (47.611)\n",
      " * MAE 47.611\n",
      "Epoch: [39][0/1]\tTime 0.685 (0.685)\tData 0.004 (0.004)\tLoss 0.4920 (0.4920)\tMAE 40.652 (40.652)\n",
      "Test: [0/1]\tTime 0.032 (0.032)\tLoss 0.7852 (0.7852)\tMAE 48.126 (48.126)\n",
      " * MAE 48.126\n",
      "Epoch: [40][0/1]\tTime 0.569 (0.569)\tData 0.004 (0.004)\tLoss 0.4626 (0.4626)\tMAE 39.558 (39.558)\n",
      "Test: [0/1]\tTime 0.032 (0.032)\tLoss 0.7842 (0.7842)\tMAE 48.906 (48.906)\n",
      " * MAE 48.906\n",
      "Epoch: [41][0/1]\tTime 0.576 (0.576)\tData 0.004 (0.004)\tLoss 0.4400 (0.4400)\tMAE 39.063 (39.063)\n",
      "Test: [0/1]\tTime 0.035 (0.035)\tLoss 0.7896 (0.7896)\tMAE 49.327 (49.327)\n",
      " * MAE 49.327\n",
      "Epoch: [42][0/1]\tTime 0.576 (0.576)\tData 0.005 (0.005)\tLoss 0.4256 (0.4256)\tMAE 38.720 (38.720)\n",
      "Test: [0/1]\tTime 0.033 (0.033)\tLoss 0.7711 (0.7711)\tMAE 48.671 (48.671)\n",
      " * MAE 48.671\n",
      "Epoch: [43][0/1]\tTime 0.579 (0.579)\tData 0.007 (0.007)\tLoss 0.4081 (0.4081)\tMAE 38.188 (38.188)\n",
      "Test: [0/1]\tTime 0.033 (0.033)\tLoss 0.7120 (0.7120)\tMAE 46.714 (46.714)\n",
      " * MAE 46.714\n",
      "Epoch: [44][0/1]\tTime 0.579 (0.579)\tData 0.004 (0.004)\tLoss 0.3815 (0.3815)\tMAE 37.026 (37.026)\n",
      "Test: [0/1]\tTime 0.038 (0.038)\tLoss 0.6233 (0.6233)\tMAE 43.625 (43.625)\n",
      " * MAE 43.625\n",
      "Epoch: [45][0/1]\tTime 0.582 (0.582)\tData 0.005 (0.005)\tLoss 0.3498 (0.3498)\tMAE 35.443 (35.443)\n",
      "Test: [0/1]\tTime 0.032 (0.032)\tLoss 0.5268 (0.5268)\tMAE 39.913 (39.913)\n",
      " * MAE 39.913\n",
      "Epoch: [46][0/1]\tTime 0.582 (0.582)\tData 0.008 (0.008)\tLoss 0.3212 (0.3212)\tMAE 33.516 (33.516)\n",
      "Test: [0/1]\tTime 0.031 (0.031)\tLoss 0.4404 (0.4404)\tMAE 38.152 (38.152)\n",
      " * MAE 38.152\n",
      "Epoch: [47][0/1]\tTime 0.585 (0.585)\tData 0.005 (0.005)\tLoss 0.2974 (0.2974)\tMAE 31.624 (31.624)\n",
      "Test: [0/1]\tTime 0.035 (0.035)\tLoss 0.3763 (0.3763)\tMAE 36.596 (36.596)\n",
      " * MAE 36.596\n",
      "Epoch: [48][0/1]\tTime 0.586 (0.586)\tData 0.004 (0.004)\tLoss 0.2759 (0.2759)\tMAE 30.250 (30.250)\n",
      "Test: [0/1]\tTime 0.033 (0.033)\tLoss 0.3402 (0.3402)\tMAE 35.045 (35.045)\n",
      " * MAE 35.045\n",
      "Epoch: [49][0/1]\tTime 0.595 (0.595)\tData 0.007 (0.007)\tLoss 0.2548 (0.2548)\tMAE 28.989 (28.989)\n",
      "Test: [0/1]\tTime 0.035 (0.035)\tLoss 0.3278 (0.3278)\tMAE 33.477 (33.477)\n",
      " * MAE 33.477\n",
      "---------Evaluate Model on Test Set---------------\n",
      "Test: [0/1]\tTime 0.148 (0.148)\tLoss 0.3531 (0.3531)\tMAE 30.786 (30.786)\n",
      " ** MAE 30.786\n"
     ]
    }
   ],
   "source": [
    "python main.py --train-ratio 0.5 --val-ratio 0.1 --test-ratio 0.4 cifs --epochs 50 --optim Adam"
   ]
  },
  {
   "cell_type": "code",
   "execution_count": 11,
   "metadata": {
    "vscode": {
     "languageId": "shellscript"
    }
   },
   "outputs": [
    {
     "name": "stdout",
     "output_type": "stream",
     "text": [
      "0.6258516853976961\n"
     ]
    }
   ],
   "source": [
    "python r2.py"
   ]
  },
  {
   "cell_type": "code",
   "execution_count": 12,
   "metadata": {
    "vscode": {
     "languageId": "shellscript"
    }
   },
   "outputs": [
    {
     "name": "stdout",
     "output_type": "stream",
     "text": [
      "=> loading model params 'model_best.pth.tar'\n",
      "=> loaded model params 'model_best.pth.tar'\n",
      "=> loading model 'model_best.pth.tar'\n",
      "=> loaded model 'model_best.pth.tar' (epoch 50, validation 33.47705078125)\n",
      "/Users/xzhang1/opt/anaconda3/envs/gpt-cgcnn-export/lib/python3.11/site-packages/pymatgen/io/cif.py:1145: UserWarning: Issues encountered while parsing CIF: Some fractional coordinates rounded to ideal values to avoid issues with finite precision.\n",
      "  warnings.warn(\"Issues encountered while parsing CIF: \" + \"\\n\".join(self.warnings))\n",
      "Test: [0/1]\tTime 9.324 (9.324)\tLoss 0.2849 (0.2849)\tMAE 29.436 (29.436)\n",
      " ** MAE 29.436\n"
     ]
    }
   ],
   "source": [
    "python predict.py model_best.pth.tar cifs"
   ]
  },
  {
   "cell_type": "code",
   "execution_count": null,
   "metadata": {
    "vscode": {
     "languageId": "shellscript"
    }
   },
   "outputs": [],
   "source": []
  }
 ],
 "metadata": {
  "kernelspec": {
   "display_name": "Bash",
   "language": "bash",
   "name": "bash"
  },
  "language_info": {
   "codemirror_mode": "shell",
   "file_extension": ".sh",
   "mimetype": "text/x-sh",
   "name": "bash"
  },
  "orig_nbformat": 4
 },
 "nbformat": 4,
 "nbformat_minor": 2
}
