{
 "cells": [
  {
   "cell_type": "code",
   "execution_count": 3,
   "metadata": {},
   "outputs": [],
   "source": [
    "from pathlib import Path\n",
    "\n",
    "import pandas as pd\n",
    "\n",
    "import numpy as np\n",
    "\n",
    "import json"
   ]
  },
  {
   "cell_type": "code",
   "execution_count": 4,
   "metadata": {},
   "outputs": [],
   "source": [
    "v = {}\n",
    "tm = {}"
   ]
  },
  {
   "cell_type": "code",
   "execution_count": 5,
   "metadata": {},
   "outputs": [],
   "source": [
    "with open('phosphors.json') as f:\n",
    "    js = json.load(f)"
   ]
  },
  {
   "cell_type": "code",
   "execution_count": 6,
   "metadata": {},
   "outputs": [],
   "source": [
    "def agg(phosphors):\n",
    "    \"\"\"agg:\n",
    "    [\n",
    "        {\n",
    "            'formula': 'BaSrMgP2O8',\n",
    "            'lambdas': [460.0, 470.0],\n",
    "            'stoichiometry': {'Ba': 1, 'Mg': 1, 'O': 8, 'P': 2, 'Sr': 1},\n",
    "            'std': 5.0,\n",
    "            'avg': 465.0,\n",
    "    \"\"\"\n",
    "    # aggregate same-stoichiometry phosphors onto their friends\n",
    "    agg = []\n",
    "    for j in phosphors:\n",
    "        if j['stoichiometry'] not in [p['stoichiometry'] for p in agg]:\n",
    "            agg.append({\n",
    "                'formula': j['formula'],\n",
    "                'lambdas': [j['lambda']],\n",
    "                'stoichiometry': j['stoichiometry'],\n",
    "            })\n",
    "            for j_ in phosphors:\n",
    "                if j['stoichiometry'] == j_['stoichiometry'] and j['lambda'] != j_['lambda']:\n",
    "                    agg[-1]['lambdas'].append(j_['lambda'])\n",
    "    # calculate standard deviation of lambda\n",
    "    for j in agg:\n",
    "        j['std'] = np.std(j['lambdas'])\n",
    "        j['avg'] = np.mean(j['lambdas'])\n",
    "    return agg"
   ]
  },
  {
   "cell_type": "code",
   "execution_count": 7,
   "metadata": {},
   "outputs": [],
   "source": [
    "def accept(phosphors, threshold=30):\n",
    "    accept = [j for j in phosphors if j['std'] < threshold]\n",
    "\n",
    "    for j in accept:\n",
    "        j['lambda'] = j['avg']\n",
    "        del j['lambdas']\n",
    "        del j['std']\n",
    "        del j['avg']\n",
    "\n",
    "    return accept"
   ]
  },
  {
   "cell_type": "code",
   "execution_count": 9,
   "metadata": {},
   "outputs": [
    {
     "data": {
      "text/plain": [
       "<Axes: >"
      ]
     },
     "execution_count": 9,
     "metadata": {},
     "output_type": "execute_result"
    },
    {
     "data": {
      "image/png": "[encoded data removed]",
      "text/plain": [
       "<Figure size 640x480 with 1 Axes>"
      ]
     },
     "metadata": {},
     "output_type": "display_data"
    }
   ],
   "source": [
    "pd.DataFrame(\n",
    "    agg(js)\n",
    ")['std'].hist(bins=30)"
   ]
  },
  {
   "cell_type": "code",
   "execution_count": 10,
   "metadata": {},
   "outputs": [],
   "source": [
    "js2 = accept(agg(js))\n",
    "\n",
    "with open('phosphors2.json', 'w') as f:\n",
    "    json.dump(js2, f)"
   ]
  },
  {
   "cell_type": "code",
   "execution_count": null,
   "metadata": {},
   "outputs": [],
   "source": []
  }
 ],
 "metadata": {
  "kernelspec": {
   "display_name": "gpt-cgcnn-export",
   "language": "python",
   "name": "python3"
  },
  "language_info": {
   "codemirror_mode": {
    "name": "ipython",
    "version": 3
   },
   "file_extension": ".py",
   "mimetype": "text/x-python",
   "name": "python",
   "nbconvert_exporter": "python",
   "pygments_lexer": "ipython3",
   "version": "3.11.4"
  },
  "orig_nbformat": 4
 },
 "nbformat": 4,
 "nbformat_minor": 2
}
